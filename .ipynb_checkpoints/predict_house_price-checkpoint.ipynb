{
 "cells": [
  {
   "cell_type": "code",
   "execution_count": 175,
   "metadata": {},
   "outputs": [],
   "source": [
    "import pandas as pd\n",
    "import numpy as np\n",
    "import matplotlib.pyplot as plt\n",
    "from sklearn.linear_model import LinearRegression\n",
    "from sklearn.metrics import mean_squared_error\n",
    "from sklearn.model_selection import train_test_split\n",
    "%matplotlib inline\n",
    "ori_data = pd.read_csv('AmesHousing.tsv', delimiter = '\\t')\n",
    "data = ori_data.copy()"
   ]
  },
  {
   "cell_type": "code",
   "execution_count": 176,
   "metadata": {},
   "outputs": [
    {
     "name": "stdout",
     "output_type": "stream",
     "text": [
      "<class 'pandas.core.frame.DataFrame'>\n",
      "RangeIndex: 2930 entries, 0 to 2929\n",
      "Data columns (total 82 columns):\n",
      "Order              2930 non-null int64\n",
      "PID                2930 non-null int64\n",
      "MS SubClass        2930 non-null int64\n",
      "MS Zoning          2930 non-null object\n",
      "Lot Frontage       2440 non-null float64\n",
      "Lot Area           2930 non-null int64\n",
      "Street             2930 non-null object\n",
      "Alley              198 non-null object\n",
      "Lot Shape          2930 non-null object\n",
      "Land Contour       2930 non-null object\n",
      "Utilities          2930 non-null object\n",
      "Lot Config         2930 non-null object\n",
      "Land Slope         2930 non-null object\n",
      "Neighborhood       2930 non-null object\n",
      "Condition 1        2930 non-null object\n",
      "Condition 2        2930 non-null object\n",
      "Bldg Type          2930 non-null object\n",
      "House Style        2930 non-null object\n",
      "Overall Qual       2930 non-null int64\n",
      "Overall Cond       2930 non-null int64\n",
      "Year Built         2930 non-null int64\n",
      "Year Remod/Add     2930 non-null int64\n",
      "Roof Style         2930 non-null object\n",
      "Roof Matl          2930 non-null object\n",
      "Exterior 1st       2930 non-null object\n",
      "Exterior 2nd       2930 non-null object\n",
      "Mas Vnr Type       2907 non-null object\n",
      "Mas Vnr Area       2907 non-null float64\n",
      "Exter Qual         2930 non-null object\n",
      "Exter Cond         2930 non-null object\n",
      "Foundation         2930 non-null object\n",
      "Bsmt Qual          2850 non-null object\n",
      "Bsmt Cond          2850 non-null object\n",
      "Bsmt Exposure      2847 non-null object\n",
      "BsmtFin Type 1     2850 non-null object\n",
      "BsmtFin SF 1       2929 non-null float64\n",
      "BsmtFin Type 2     2849 non-null object\n",
      "BsmtFin SF 2       2929 non-null float64\n",
      "Bsmt Unf SF        2929 non-null float64\n",
      "Total Bsmt SF      2929 non-null float64\n",
      "Heating            2930 non-null object\n",
      "Heating QC         2930 non-null object\n",
      "Central Air        2930 non-null object\n",
      "Electrical         2929 non-null object\n",
      "1st Flr SF         2930 non-null int64\n",
      "2nd Flr SF         2930 non-null int64\n",
      "Low Qual Fin SF    2930 non-null int64\n",
      "Gr Liv Area        2930 non-null int64\n",
      "Bsmt Full Bath     2928 non-null float64\n",
      "Bsmt Half Bath     2928 non-null float64\n",
      "Full Bath          2930 non-null int64\n",
      "Half Bath          2930 non-null int64\n",
      "Bedroom AbvGr      2930 non-null int64\n",
      "Kitchen AbvGr      2930 non-null int64\n",
      "Kitchen Qual       2930 non-null object\n",
      "TotRms AbvGrd      2930 non-null int64\n",
      "Functional         2930 non-null object\n",
      "Fireplaces         2930 non-null int64\n",
      "Fireplace Qu       1508 non-null object\n",
      "Garage Type        2773 non-null object\n",
      "Garage Yr Blt      2771 non-null float64\n",
      "Garage Finish      2771 non-null object\n",
      "Garage Cars        2929 non-null float64\n",
      "Garage Area        2929 non-null float64\n",
      "Garage Qual        2771 non-null object\n",
      "Garage Cond        2771 non-null object\n",
      "Paved Drive        2930 non-null object\n",
      "Wood Deck SF       2930 non-null int64\n",
      "Open Porch SF      2930 non-null int64\n",
      "Enclosed Porch     2930 non-null int64\n",
      "3Ssn Porch         2930 non-null int64\n",
      "Screen Porch       2930 non-null int64\n",
      "Pool Area          2930 non-null int64\n",
      "Pool QC            13 non-null object\n",
      "Fence              572 non-null object\n",
      "Misc Feature       106 non-null object\n",
      "Misc Val           2930 non-null int64\n",
      "Mo Sold            2930 non-null int64\n",
      "Yr Sold            2930 non-null int64\n",
      "Sale Type          2930 non-null object\n",
      "Sale Condition     2930 non-null object\n",
      "SalePrice          2930 non-null int64\n",
      "dtypes: float64(11), int64(28), object(43)\n",
      "memory usage: 1.8+ MB\n"
     ]
    }
   ],
   "source": [
    "data.info()"
   ]
  },
  {
   "cell_type": "code",
   "execution_count": 177,
   "metadata": {},
   "outputs": [
    {
     "name": "stdout",
     "output_type": "stream",
     "text": [
      "   Order        PID  MS SubClass MS Zoning  Lot Frontage  Lot Area Street  \\\n",
      "0      1  526301100           20        RL         141.0     31770   Pave   \n",
      "1      2  526350040           20        RH          80.0     11622   Pave   \n",
      "2      3  526351010           20        RL          81.0     14267   Pave   \n",
      "3      4  526353030           20        RL          93.0     11160   Pave   \n",
      "4      5  527105010           60        RL          74.0     13830   Pave   \n",
      "5      6  527105030           60        RL          78.0      9978   Pave   \n",
      "6      7  527127150          120        RL          41.0      4920   Pave   \n",
      "7      8  527145080          120        RL          43.0      5005   Pave   \n",
      "8      9  527146030          120        RL          39.0      5389   Pave   \n",
      "9     10  527162130           60        RL          60.0      7500   Pave   \n",
      "\n",
      "  Alley Lot Shape Land Contour    ...     Pool Area Pool QC  Fence  \\\n",
      "0   NaN       IR1          Lvl    ...             0     NaN    NaN   \n",
      "1   NaN       Reg          Lvl    ...             0     NaN  MnPrv   \n",
      "2   NaN       IR1          Lvl    ...             0     NaN    NaN   \n",
      "3   NaN       Reg          Lvl    ...             0     NaN    NaN   \n",
      "4   NaN       IR1          Lvl    ...             0     NaN  MnPrv   \n",
      "5   NaN       IR1          Lvl    ...             0     NaN    NaN   \n",
      "6   NaN       Reg          Lvl    ...             0     NaN    NaN   \n",
      "7   NaN       IR1          HLS    ...             0     NaN    NaN   \n",
      "8   NaN       IR1          Lvl    ...             0     NaN    NaN   \n",
      "9   NaN       Reg          Lvl    ...             0     NaN    NaN   \n",
      "\n",
      "  Misc Feature Misc Val Mo Sold Yr Sold Sale Type  Sale Condition  SalePrice  \n",
      "0          NaN        0       5    2010       WD           Normal     215000  \n",
      "1          NaN        0       6    2010       WD           Normal     105000  \n",
      "2         Gar2    12500       6    2010       WD           Normal     172000  \n",
      "3          NaN        0       4    2010       WD           Normal     244000  \n",
      "4          NaN        0       3    2010       WD           Normal     189900  \n",
      "5          NaN        0       6    2010       WD           Normal     195500  \n",
      "6          NaN        0       4    2010       WD           Normal     213500  \n",
      "7          NaN        0       1    2010       WD           Normal     191500  \n",
      "8          NaN        0       3    2010       WD           Normal     236500  \n",
      "9          NaN        0       6    2010       WD           Normal     189000  \n",
      "\n",
      "[10 rows x 82 columns]\n",
      "(2930, 82)\n"
     ]
    }
   ],
   "source": [
    "print(data.head(10))\n",
    "print(data.shape)"
   ]
  },
  {
   "cell_type": "code",
   "execution_count": 178,
   "metadata": {},
   "outputs": [
    {
     "data": {
      "text/plain": [
       "Order                0\n",
       "PID                  0\n",
       "MS SubClass          0\n",
       "MS Zoning            0\n",
       "Lot Frontage       490\n",
       "Lot Area             0\n",
       "Street               0\n",
       "Alley             2732\n",
       "Lot Shape            0\n",
       "Land Contour         0\n",
       "Utilities            0\n",
       "Lot Config           0\n",
       "Land Slope           0\n",
       "Neighborhood         0\n",
       "Condition 1          0\n",
       "Condition 2          0\n",
       "Bldg Type            0\n",
       "House Style          0\n",
       "Overall Qual         0\n",
       "Overall Cond         0\n",
       "Year Built           0\n",
       "Year Remod/Add       0\n",
       "Roof Style           0\n",
       "Roof Matl            0\n",
       "Exterior 1st         0\n",
       "Exterior 2nd         0\n",
       "Mas Vnr Type        23\n",
       "Mas Vnr Area        23\n",
       "Exter Qual           0\n",
       "Exter Cond           0\n",
       "                  ... \n",
       "Bedroom AbvGr        0\n",
       "Kitchen AbvGr        0\n",
       "Kitchen Qual         0\n",
       "TotRms AbvGrd        0\n",
       "Functional           0\n",
       "Fireplaces           0\n",
       "Fireplace Qu      1422\n",
       "Garage Type        157\n",
       "Garage Yr Blt      159\n",
       "Garage Finish      159\n",
       "Garage Cars          1\n",
       "Garage Area          1\n",
       "Garage Qual        159\n",
       "Garage Cond        159\n",
       "Paved Drive          0\n",
       "Wood Deck SF         0\n",
       "Open Porch SF        0\n",
       "Enclosed Porch       0\n",
       "3Ssn Porch           0\n",
       "Screen Porch         0\n",
       "Pool Area            0\n",
       "Pool QC           2917\n",
       "Fence             2358\n",
       "Misc Feature      2824\n",
       "Misc Val             0\n",
       "Mo Sold              0\n",
       "Yr Sold              0\n",
       "Sale Type            0\n",
       "Sale Condition       0\n",
       "SalePrice            0\n",
       "Length: 82, dtype: int64"
      ]
     },
     "execution_count": 178,
     "metadata": {},
     "output_type": "execute_result"
    }
   ],
   "source": [
    "data.isnull().sum()"
   ]
  },
  {
   "cell_type": "code",
   "execution_count": 179,
   "metadata": {},
   "outputs": [],
   "source": [
    "def transform_feature (df):\n",
    "    return df\n",
    "\n",
    "def select_features(df):\n",
    "    return df[['Gr Liv Area','SalePrice']]\n",
    "\n",
    "def train_and_test(df):\n",
    "    data_numeric = df.select_dtypes(exclude=['object'])\n",
    "    columns = data_numeric.columns.drop('SalePrice')\n",
    "    train_X, test_X, train_y, test_y = train_test_split(data_numeric[columns], data_numeric['SalePrice'], test_size=0.502,random_state=0)\n",
    "    lr = LinearRegression()\n",
    "    lr.fit(train_X,train_y)\n",
    "    predictions = lr.predict(test_X)\n",
    "    rmse = mean_squared_error(test_y,predictions)**(1/2)\n",
    "    \n",
    "    return rmse\n",
    "    "
   ]
  },
  {
   "cell_type": "code",
   "execution_count": 180,
   "metadata": {},
   "outputs": [
    {
     "name": "stdout",
     "output_type": "stream",
     "text": [
      "54693.13759631275\n"
     ]
    }
   ],
   "source": [
    "ames = transform_feature(data)\n",
    "features = select_features(ames)\n",
    "test = train_and_test(features)\n",
    "\n",
    "print(test)"
   ]
  },
  {
   "cell_type": "markdown",
   "metadata": {},
   "source": [
    "## Delete null more than 5%"
   ]
  },
  {
   "cell_type": "code",
   "execution_count": 181,
   "metadata": {},
   "outputs": [
    {
     "name": "stdout",
     "output_type": "stream",
     "text": [
      "Index(['Lot Frontage', 'Alley', 'Fireplace Qu', 'Garage Type', 'Garage Yr Blt',\n",
      "       'Garage Finish', 'Garage Qual', 'Garage Cond', 'Pool QC', 'Fence',\n",
      "       'Misc Feature'],\n",
      "      dtype='object')\n",
      "(2930, 82)\n",
      "(2930, 71)\n"
     ]
    }
   ],
   "source": [
    "null = data.isnull().sum()\n",
    "null_cols = null[null > round(len(data)*0.05)].index\n",
    "print(null_cols)\n",
    "print(data.shape)\n",
    "data.drop(null_cols, axis = 1, inplace = True)\n",
    "print(data.shape)"
   ]
  },
  {
   "cell_type": "markdown",
   "metadata": {},
   "source": [
    "## Fill NA for Numerical Columns"
   ]
  },
  {
   "cell_type": "code",
   "execution_count": 182,
   "metadata": {},
   "outputs": [
    {
     "name": "stdout",
     "output_type": "stream",
     "text": [
      "Index(['Mas Vnr Area', 'BsmtFin SF 1', 'BsmtFin SF 2', 'Bsmt Unf SF',\n",
      "       'Total Bsmt SF', 'Bsmt Full Bath', 'Bsmt Half Bath', 'Garage Cars',\n",
      "       'Garage Area'],\n",
      "      dtype='object')\n"
     ]
    }
   ],
   "source": [
    "num_data = data.select_dtypes(exclude = ['object'])\n",
    "num_data_null = num_data.isnull().sum()\n",
    "num_data_cols = num_data_null[num_data_null>0].index\n",
    "print(num_data_cols)"
   ]
  },
  {
   "cell_type": "code",
   "execution_count": 183,
   "metadata": {},
   "outputs": [
    {
     "data": {
      "text/plain": [
       "{'Bsmt Full Bath': 0.0,\n",
       " 'Bsmt Half Bath': 0.0,\n",
       " 'Bsmt Unf SF': 0.0,\n",
       " 'BsmtFin SF 1': 0.0,\n",
       " 'BsmtFin SF 2': 0.0,\n",
       " 'Garage Area': 0.0,\n",
       " 'Garage Cars': 2.0,\n",
       " 'Mas Vnr Area': 0.0,\n",
       " 'Total Bsmt SF': 0.0}"
      ]
     },
     "execution_count": 183,
     "metadata": {},
     "output_type": "execute_result"
    }
   ],
   "source": [
    "cols_replace = data[num_data_cols].mode().to_dict(orient='records')[0]\n",
    "cols_replace"
   ]
  },
  {
   "cell_type": "code",
   "execution_count": 184,
   "metadata": {},
   "outputs": [
    {
     "data": {
      "text/plain": [
       "Order               0\n",
       "PID                 0\n",
       "MS SubClass         0\n",
       "MS Zoning           0\n",
       "Lot Area            0\n",
       "Street              0\n",
       "Lot Shape           0\n",
       "Land Contour        0\n",
       "Utilities           0\n",
       "Lot Config          0\n",
       "Land Slope          0\n",
       "Neighborhood        0\n",
       "Condition 1         0\n",
       "Condition 2         0\n",
       "Bldg Type           0\n",
       "House Style         0\n",
       "Overall Qual        0\n",
       "Overall Cond        0\n",
       "Year Built          0\n",
       "Year Remod/Add      0\n",
       "Roof Style          0\n",
       "Roof Matl           0\n",
       "Exterior 1st        0\n",
       "Exterior 2nd        0\n",
       "Mas Vnr Type       23\n",
       "Mas Vnr Area        0\n",
       "Exter Qual          0\n",
       "Exter Cond          0\n",
       "Foundation          0\n",
       "Bsmt Qual          80\n",
       "                   ..\n",
       "Electrical          1\n",
       "1st Flr SF          0\n",
       "2nd Flr SF          0\n",
       "Low Qual Fin SF     0\n",
       "Gr Liv Area         0\n",
       "Bsmt Full Bath      0\n",
       "Bsmt Half Bath      0\n",
       "Full Bath           0\n",
       "Half Bath           0\n",
       "Bedroom AbvGr       0\n",
       "Kitchen AbvGr       0\n",
       "Kitchen Qual        0\n",
       "TotRms AbvGrd       0\n",
       "Functional          0\n",
       "Fireplaces          0\n",
       "Garage Cars         0\n",
       "Garage Area         0\n",
       "Paved Drive         0\n",
       "Wood Deck SF        0\n",
       "Open Porch SF       0\n",
       "Enclosed Porch      0\n",
       "3Ssn Porch          0\n",
       "Screen Porch        0\n",
       "Pool Area           0\n",
       "Misc Val            0\n",
       "Mo Sold             0\n",
       "Yr Sold             0\n",
       "Sale Type           0\n",
       "Sale Condition      0\n",
       "SalePrice           0\n",
       "Length: 71, dtype: int64"
      ]
     },
     "execution_count": 184,
     "metadata": {},
     "output_type": "execute_result"
    }
   ],
   "source": [
    "data.fillna(cols_replace, inplace=True)\n",
    "data.isnull().sum()"
   ]
  },
  {
   "cell_type": "markdown",
   "metadata": {},
   "source": [
    "## Fill NA Context"
   ]
  },
  {
   "cell_type": "code",
   "execution_count": 185,
   "metadata": {},
   "outputs": [
    {
     "name": "stdout",
     "output_type": "stream",
     "text": [
      "Index(['Mas Vnr Type', 'Bsmt Qual', 'Bsmt Cond', 'Bsmt Exposure',\n",
      "       'BsmtFin Type 1', 'BsmtFin Type 2', 'Electrical'],\n",
      "      dtype='object')\n"
     ]
    }
   ],
   "source": [
    "# drop columns that have any missing value\n",
    "data_text = data.select_dtypes(include = ['object'])\n",
    "data_text_null = data_text.isnull().sum()\n",
    "text_cols = data_text_null[data_text_null > 0].index\n",
    "print(text_cols)"
   ]
  },
  {
   "cell_type": "code",
   "execution_count": 186,
   "metadata": {},
   "outputs": [
    {
     "data": {
      "text/plain": [
       "Order              0\n",
       "Central Air        0\n",
       "1st Flr SF         0\n",
       "2nd Flr SF         0\n",
       "Low Qual Fin SF    0\n",
       "Gr Liv Area        0\n",
       "Bsmt Full Bath     0\n",
       "Bsmt Half Bath     0\n",
       "Full Bath          0\n",
       "Half Bath          0\n",
       "Bedroom AbvGr      0\n",
       "Kitchen AbvGr      0\n",
       "Kitchen Qual       0\n",
       "TotRms AbvGrd      0\n",
       "Heating QC         0\n",
       "Functional         0\n",
       "Garage Cars        0\n",
       "Garage Area        0\n",
       "Paved Drive        0\n",
       "Wood Deck SF       0\n",
       "Open Porch SF      0\n",
       "Enclosed Porch     0\n",
       "3Ssn Porch         0\n",
       "Screen Porch       0\n",
       "Pool Area          0\n",
       "Misc Val           0\n",
       "Mo Sold            0\n",
       "Yr Sold            0\n",
       "Sale Type          0\n",
       "Fireplaces         0\n",
       "                  ..\n",
       "MS SubClass        0\n",
       "MS Zoning          0\n",
       "Lot Area           0\n",
       "Street             0\n",
       "Lot Shape          0\n",
       "Land Contour       0\n",
       "Utilities          0\n",
       "Lot Config         0\n",
       "Land Slope         0\n",
       "Neighborhood       0\n",
       "Condition 1        0\n",
       "Condition 2        0\n",
       "Bldg Type          0\n",
       "House Style        0\n",
       "Overall Qual       0\n",
       "Overall Cond       0\n",
       "Year Built         0\n",
       "Year Remod/Add     0\n",
       "Roof Style         0\n",
       "Roof Matl          0\n",
       "Exterior 1st       0\n",
       "Exterior 2nd       0\n",
       "Mas Vnr Area       0\n",
       "Exter Qual         0\n",
       "Exter Cond         0\n",
       "Foundation         0\n",
       "BsmtFin SF 1       0\n",
       "BsmtFin SF 2       0\n",
       "Sale Condition     0\n",
       "SalePrice          0\n",
       "Length: 64, dtype: int64"
      ]
     },
     "execution_count": 186,
     "metadata": {},
     "output_type": "execute_result"
    }
   ],
   "source": [
    "data.drop(text_cols, axis = 1, inplace=True)\n",
    "data.isnull().sum().sort_values()"
   ]
  },
  {
   "cell_type": "markdown",
   "metadata": {},
   "source": [
    "## Feature Engineering"
   ]
  },
  {
   "cell_type": "code",
   "execution_count": 187,
   "metadata": {},
   "outputs": [],
   "source": [
    "years_mod = data['Yr Sold'] - data['Year Remod/Add']\n",
    "years_sold = data['Yr Sold'] - data['Year Built']"
   ]
  },
  {
   "cell_type": "code",
   "execution_count": 188,
   "metadata": {},
   "outputs": [
    {
     "data": {
      "text/plain": [
       "1702   -1\n",
       "2180   -2\n",
       "2181   -1\n",
       "dtype: int64"
      ]
     },
     "execution_count": 188,
     "metadata": {},
     "output_type": "execute_result"
    }
   ],
   "source": [
    "years_mod[years_mod < 0]"
   ]
  },
  {
   "cell_type": "code",
   "execution_count": 189,
   "metadata": {},
   "outputs": [
    {
     "data": {
      "text/plain": [
       "2180   -1\n",
       "dtype: int64"
      ]
     },
     "execution_count": 189,
     "metadata": {},
     "output_type": "execute_result"
    }
   ],
   "source": [
    "years_sold[years_sold<0]"
   ]
  },
  {
   "cell_type": "code",
   "execution_count": 190,
   "metadata": {
    "scrolled": true
   },
   "outputs": [],
   "source": [
    "data['Years Sold'] = years_sold\n",
    "data['Years Mod'] = years_mod\n",
    "data.drop([1702,2180,2181], axis=0, inplace=True)"
   ]
  },
  {
   "cell_type": "code",
   "execution_count": 191,
   "metadata": {},
   "outputs": [],
   "source": [
    "data.drop(['PID','Order','Mo Sold','Sale Condition','Sale Type','Yr Sold'], axis=1, inplace = True)"
   ]
  },
  {
   "cell_type": "markdown",
   "metadata": {},
   "source": [
    "## Correlation"
   ]
  },
  {
   "cell_type": "code",
   "execution_count": 192,
   "metadata": {},
   "outputs": [
    {
     "data": {
      "image/png": "[encoded data removed]",
      "text/plain": [
       "<matplotlib.figure.Figure at 0x24cd1367320>"
      ]
     },
     "metadata": {},
     "output_type": "display_data"
    }
   ],
   "source": [
    "import seaborn as sns\n",
    "\n",
    "corrs = data.corr()\n",
    "ax = sns.heatmap(corrs)"
   ]
  },
  {
   "cell_type": "code",
   "execution_count": 193,
   "metadata": {},
   "outputs": [
    {
     "data": {
      "text/plain": [
       "SalePrice          1.000000\n",
       "Overall Qual       0.801206\n",
       "Gr Liv Area        0.717596\n",
       "Garage Cars        0.648361\n",
       "Total Bsmt SF      0.644012\n",
       "Garage Area        0.641425\n",
       "1st Flr SF         0.635185\n",
       "Years Sold         0.558979\n",
       "Year Built         0.558490\n",
       "Full Bath          0.546118\n",
       "Years Mod          0.534985\n",
       "Year Remod/Add     0.533007\n",
       "Mas Vnr Area       0.506983\n",
       "TotRms AbvGrd      0.498574\n",
       "Fireplaces         0.474831\n",
       "BsmtFin SF 1       0.439284\n",
       "Wood Deck SF       0.328183\n",
       "Open Porch SF      0.316262\n",
       "Half Bath          0.284871\n",
       "Bsmt Full Bath     0.276258\n",
       "2nd Flr SF         0.269601\n",
       "Lot Area           0.267520\n",
       "Bsmt Unf SF        0.182751\n",
       "Bedroom AbvGr      0.143916\n",
       "Enclosed Porch     0.128685\n",
       "Kitchen AbvGr      0.119760\n",
       "Screen Porch       0.112280\n",
       "Overall Cond       0.101540\n",
       "MS SubClass        0.085128\n",
       "Pool Area          0.068438\n",
       "Low Qual Fin SF    0.037629\n",
       "Bsmt Half Bath     0.035875\n",
       "3Ssn Porch         0.032268\n",
       "Misc Val           0.019273\n",
       "BsmtFin SF 2       0.006127\n",
       "Name: SalePrice, dtype: float64"
      ]
     },
     "execution_count": 193,
     "metadata": {},
     "output_type": "execute_result"
    }
   ],
   "source": [
    "corr_abs = corrs['SalePrice'].abs().sort_values(ascending=False)\n",
    "corr_abs"
   ]
  },
  {
   "cell_type": "code",
   "execution_count": 194,
   "metadata": {},
   "outputs": [
    {
     "name": "stdout",
     "output_type": "stream",
     "text": [
      "SalePrice         1.000000\n",
      "Overall Qual      0.801206\n",
      "Gr Liv Area       0.717596\n",
      "Garage Cars       0.648361\n",
      "Total Bsmt SF     0.644012\n",
      "Garage Area       0.641425\n",
      "1st Flr SF        0.635185\n",
      "Years Sold        0.558979\n",
      "Year Built        0.558490\n",
      "Full Bath         0.546118\n",
      "Years Mod         0.534985\n",
      "Year Remod/Add    0.533007\n",
      "Mas Vnr Area      0.506983\n",
      "Name: SalePrice, dtype: float64\n",
      "Index(['TotRms AbvGrd', 'Fireplaces', 'BsmtFin SF 1', 'Wood Deck SF',\n",
      "       'Open Porch SF', 'Half Bath', 'Bsmt Full Bath', '2nd Flr SF',\n",
      "       'Lot Area', 'Bsmt Unf SF', 'Bedroom AbvGr', 'Enclosed Porch',\n",
      "       'Kitchen AbvGr', 'Screen Porch', 'Overall Cond', 'MS SubClass',\n",
      "       'Pool Area', 'Low Qual Fin SF', 'Bsmt Half Bath', '3Ssn Porch',\n",
      "       'Misc Val', 'BsmtFin SF 2'],\n",
      "      dtype='object')\n"
     ]
    }
   ],
   "source": [
    "print(corr_abs[corr_abs > 0.5])\n",
    "corr_drop_cols = corr_abs[corr_abs < 0.5].index\n",
    "print(corr_drop_cols)"
   ]
  },
  {
   "cell_type": "code",
   "execution_count": 195,
   "metadata": {},
   "outputs": [],
   "source": [
    "data.drop(corr_drop_cols, axis = 1, inplace = True)"
   ]
  },
  {
   "cell_type": "code",
   "execution_count": 196,
   "metadata": {},
   "outputs": [
    {
     "data": {
      "text/plain": [
       "(2927, 38)"
      ]
     },
     "execution_count": 196,
     "metadata": {},
     "output_type": "execute_result"
    }
   ],
   "source": [
    "data.shape"
   ]
  },
  {
   "cell_type": "code",
   "execution_count": 197,
   "metadata": {},
   "outputs": [],
   "source": [
    "nominal_cols = ['PID','MS Zoning','Street','Alley','Land Contour','Lot Config','Neighborhood','Condition 1','Condition 2','Bldg Type','House Style','Roof Style','Roof Matl','Exterior 1st','Exterior 2nd','Mas Vnr Type','Foundation','Heating','Central Air','Garage Type','Misc Feature','Sale Type','Sale Condition']\n",
    "nominal_cols_data = []\n",
    "for col in nominal_cols:\n",
    "    if col in data.columns:\n",
    "        nominal_cols_data.append(col)"
   ]
  },
  {
   "cell_type": "code",
   "execution_count": 198,
   "metadata": {},
   "outputs": [
    {
     "name": "stdout",
     "output_type": "stream",
     "text": [
      "Street           2\n",
      "Central Air      2\n",
      "Land Contour     4\n",
      "Lot Config       5\n",
      "Bldg Type        5\n",
      "Roof Style       6\n",
      "Foundation       6\n",
      "Heating          6\n",
      "MS Zoning        7\n",
      "Condition 2      8\n",
      "House Style      8\n",
      "Roof Matl        8\n",
      "Condition 1      9\n",
      "Exterior 1st    16\n",
      "Exterior 2nd    17\n",
      "Neighborhood    28\n",
      "dtype: int64\n"
     ]
    }
   ],
   "source": [
    "uniq_counts = data[nominal_cols_data].apply(lambda col: len(col.value_counts())).sort_values()\n",
    "print(uniq_counts)\n",
    "data.drop(uniq_counts[uniq_counts > 10].index, axis = 1, inplace = True)"
   ]
  },
  {
   "cell_type": "code",
   "execution_count": 199,
   "metadata": {},
   "outputs": [
    {
     "name": "stdout",
     "output_type": "stream",
     "text": [
      "(2927, 35)\n",
      "(2927, 22)\n"
     ]
    }
   ],
   "source": [
    "print(data.shape)\n",
    "print(data.select_dtypes(include = ['object']).shape)"
   ]
  },
  {
   "cell_type": "code",
   "execution_count": 200,
   "metadata": {},
   "outputs": [],
   "source": [
    "cat_cols = data.select_dtypes(include = ['object']).columns\n",
    "data[cat_cols] = data[cat_cols].apply(lambda x: x.astype('category'))"
   ]
  },
  {
   "cell_type": "code",
   "execution_count": 201,
   "metadata": {},
   "outputs": [
    {
     "name": "stdout",
     "output_type": "stream",
     "text": [
      "<class 'pandas.core.frame.DataFrame'>\n",
      "Int64Index: 2927 entries, 0 to 2929\n",
      "Data columns (total 35 columns):\n",
      "MS Zoning         2927 non-null category\n",
      "Street            2927 non-null category\n",
      "Lot Shape         2927 non-null category\n",
      "Land Contour      2927 non-null category\n",
      "Utilities         2927 non-null category\n",
      "Lot Config        2927 non-null category\n",
      "Land Slope        2927 non-null category\n",
      "Condition 1       2927 non-null category\n",
      "Condition 2       2927 non-null category\n",
      "Bldg Type         2927 non-null category\n",
      "House Style       2927 non-null category\n",
      "Overall Qual      2927 non-null int64\n",
      "Year Built        2927 non-null int64\n",
      "Year Remod/Add    2927 non-null int64\n",
      "Roof Style        2927 non-null category\n",
      "Roof Matl         2927 non-null category\n",
      "Mas Vnr Area      2927 non-null float64\n",
      "Exter Qual        2927 non-null category\n",
      "Exter Cond        2927 non-null category\n",
      "Foundation        2927 non-null category\n",
      "Total Bsmt SF     2927 non-null float64\n",
      "Heating           2927 non-null category\n",
      "Heating QC        2927 non-null category\n",
      "Central Air       2927 non-null category\n",
      "1st Flr SF        2927 non-null int64\n",
      "Gr Liv Area       2927 non-null int64\n",
      "Full Bath         2927 non-null int64\n",
      "Kitchen Qual      2927 non-null category\n",
      "Functional        2927 non-null category\n",
      "Garage Cars       2927 non-null float64\n",
      "Garage Area       2927 non-null float64\n",
      "Paved Drive       2927 non-null category\n",
      "SalePrice         2927 non-null int64\n",
      "Years Sold        2927 non-null int64\n",
      "Years Mod         2927 non-null int64\n",
      "dtypes: category(22), float64(4), int64(9)\n",
      "memory usage: 387.9 KB\n"
     ]
    }
   ],
   "source": [
    "data.info()"
   ]
  },
  {
   "cell_type": "code",
   "execution_count": 202,
   "metadata": {},
   "outputs": [
    {
     "name": "stdout",
     "output_type": "stream",
     "text": [
      "      MS Zoning_A (agr)  MS Zoning_C (all)  MS Zoning_FV  MS Zoning_I (all)  \\\n",
      "0                     0                  0             0                  0   \n",
      "1                     0                  0             0                  0   \n",
      "2                     0                  0             0                  0   \n",
      "3                     0                  0             0                  0   \n",
      "4                     0                  0             0                  0   \n",
      "5                     0                  0             0                  0   \n",
      "6                     0                  0             0                  0   \n",
      "7                     0                  0             0                  0   \n",
      "8                     0                  0             0                  0   \n",
      "9                     0                  0             0                  0   \n",
      "10                    0                  0             0                  0   \n",
      "11                    0                  0             0                  0   \n",
      "12                    0                  0             0                  0   \n",
      "13                    0                  0             0                  0   \n",
      "14                    0                  0             0                  0   \n",
      "15                    0                  0             0                  0   \n",
      "16                    0                  0             0                  0   \n",
      "17                    0                  0             0                  0   \n",
      "18                    0                  0             0                  0   \n",
      "19                    0                  0             0                  0   \n",
      "20                    0                  0             0                  0   \n",
      "21                    0                  0             0                  0   \n",
      "22                    0                  0             1                  0   \n",
      "23                    0                  0             0                  0   \n",
      "24                    0                  0             0                  0   \n",
      "25                    0                  0             0                  0   \n",
      "26                    0                  0             0                  0   \n",
      "27                    0                  0             0                  0   \n",
      "28                    0                  0             0                  0   \n",
      "29                    0                  0             0                  0   \n",
      "...                 ...                ...           ...                ...   \n",
      "2900                  0                  0             0                  0   \n",
      "2901                  0                  0             0                  0   \n",
      "2902                  0                  0             0                  0   \n",
      "2903                  1                  0             0                  0   \n",
      "2904                  0                  0             0                  0   \n",
      "2905                  0                  0             0                  0   \n",
      "2906                  0                  0             0                  0   \n",
      "2907                  0                  0             0                  0   \n",
      "2908                  0                  0             0                  0   \n",
      "2909                  0                  0             0                  0   \n",
      "2910                  0                  0             0                  0   \n",
      "2911                  0                  0             0                  0   \n",
      "2912                  0                  0             0                  0   \n",
      "2913                  0                  0             0                  0   \n",
      "2914                  0                  0             0                  0   \n",
      "2915                  0                  0             0                  0   \n",
      "2916                  0                  0             0                  0   \n",
      "2917                  0                  0             0                  0   \n",
      "2918                  0                  0             0                  0   \n",
      "2919                  0                  0             0                  0   \n",
      "2920                  0                  0             0                  0   \n",
      "2921                  0                  0             0                  0   \n",
      "2922                  0                  0             0                  0   \n",
      "2923                  0                  0             0                  0   \n",
      "2924                  0                  0             0                  0   \n",
      "2925                  0                  0             0                  0   \n",
      "2926                  0                  0             0                  0   \n",
      "2927                  0                  0             0                  0   \n",
      "2928                  0                  0             0                  0   \n",
      "2929                  0                  0             0                  0   \n",
      "\n",
      "      MS Zoning_RH  MS Zoning_RL  MS Zoning_RM  Street_Grvl  Street_Pave  \\\n",
      "0                0             1             0            0            1   \n",
      "1                1             0             0            0            1   \n",
      "2                0             1             0            0            1   \n",
      "3                0             1             0            0            1   \n",
      "4                0             1             0            0            1   \n",
      "5                0             1             0            0            1   \n",
      "6                0             1             0            0            1   \n",
      "7                0             1             0            0            1   \n",
      "8                0             1             0            0            1   \n",
      "9                0             1             0            0            1   \n",
      "10               0             1             0            0            1   \n",
      "11               0             1             0            0            1   \n",
      "12               0             1             0            0            1   \n",
      "13               0             1             0            0            1   \n",
      "14               0             1             0            0            1   \n",
      "15               0             1             0            0            1   \n",
      "16               0             1             0            0            1   \n",
      "17               0             1             0            0            1   \n",
      "18               0             1             0            0            1   \n",
      "19               0             1             0            0            1   \n",
      "20               0             1             0            0            1   \n",
      "21               0             1             0            0            1   \n",
      "22               0             0             0            0            1   \n",
      "23               0             1             0            0            1   \n",
      "24               0             1             0            0            1   \n",
      "25               0             1             0            0            1   \n",
      "26               0             1             0            0            1   \n",
      "27               0             1             0            0            1   \n",
      "28               1             0             0            0            1   \n",
      "29               0             0             1            0            1   \n",
      "...            ...           ...           ...          ...          ...   \n",
      "2900             0             1             0            0            1   \n",
      "2901             0             1             0            0            1   \n",
      "2902             0             1             0            0            1   \n",
      "2903             0             0             0            0            1   \n",
      "2904             0             0             1            0            1   \n",
      "2905             0             0             1            0            1   \n",
      "2906             0             0             1            0            1   \n",
      "2907             0             1             0            0            1   \n",
      "2908             0             0             1            0            1   \n",
      "2909             0             0             1            0            1   \n",
      "2910             0             0             1            0            1   \n",
      "2911             0             1             0            0            1   \n",
      "2912             0             1             0            0            1   \n",
      "2913             0             0             1            0            1   \n",
      "2914             0             0             1            0            1   \n",
      "2915             0             1             0            0            1   \n",
      "2916             0             0             1            0            1   \n",
      "2917             0             0             1            0            1   \n",
      "2918             0             0             1            0            1   \n",
      "2919             0             0             1            0            1   \n",
      "2920             0             0             1            0            1   \n",
      "2921             0             1             0            0            1   \n",
      "2922             0             1             0            0            1   \n",
      "2923             0             1             0            0            1   \n",
      "2924             0             1             0            0            1   \n",
      "2925             0             1             0            0            1   \n",
      "2926             0             1             0            0            1   \n",
      "2927             0             1             0            0            1   \n",
      "2928             0             1             0            0            1   \n",
      "2929             0             1             0            0            1   \n",
      "\n",
      "      Lot Shape_IR1      ...        Functional_Maj2  Functional_Min1  \\\n",
      "0                 1      ...                      0                0   \n",
      "1                 0      ...                      0                0   \n",
      "2                 1      ...                      0                0   \n",
      "3                 0      ...                      0                0   \n",
      "4                 1      ...                      0                0   \n",
      "5                 1      ...                      0                0   \n",
      "6                 0      ...                      0                0   \n",
      "7                 1      ...                      0                0   \n",
      "8                 1      ...                      0                0   \n",
      "9                 0      ...                      0                0   \n",
      "10                1      ...                      0                0   \n",
      "11                1      ...                      0                0   \n",
      "12                1      ...                      0                0   \n",
      "13                0      ...                      0                0   \n",
      "14                1      ...                      0                0   \n",
      "15                0      ...                      0                0   \n",
      "16                1      ...                      0                0   \n",
      "17                0      ...                      0                0   \n",
      "18                0      ...                      0                0   \n",
      "19                0      ...                      0                1   \n",
      "20                1      ...                      0                0   \n",
      "21                0      ...                      0                0   \n",
      "22                0      ...                      0                0   \n",
      "23                1      ...                      0                0   \n",
      "24                1      ...                      0                0   \n",
      "25                0      ...                      0                0   \n",
      "26                0      ...                      0                0   \n",
      "27                0      ...                      0                0   \n",
      "28                1      ...                      0                0   \n",
      "29                0      ...                      0                0   \n",
      "...             ...      ...                    ...              ...   \n",
      "2900              0      ...                      0                0   \n",
      "2901              0      ...                      0                0   \n",
      "2902              0      ...                      0                0   \n",
      "2903              0      ...                      0                0   \n",
      "2904              0      ...                      0                0   \n",
      "2905              0      ...                      0                0   \n",
      "2906              0      ...                      0                0   \n",
      "2907              0      ...                      0                0   \n",
      "2908              0      ...                      0                0   \n",
      "2909              0      ...                      0                0   \n",
      "2910              0      ...                      0                0   \n",
      "2911              1      ...                      0                0   \n",
      "2912              1      ...                      0                0   \n",
      "2913              0      ...                      0                0   \n",
      "2914              0      ...                      0                0   \n",
      "2915              0      ...                      0                0   \n",
      "2916              0      ...                      0                0   \n",
      "2917              0      ...                      0                0   \n",
      "2918              0      ...                      0                0   \n",
      "2919              0      ...                      0                0   \n",
      "2920              0      ...                      0                0   \n",
      "2921              1      ...                      0                0   \n",
      "2922              0      ...                      0                0   \n",
      "2923              0      ...                      0                0   \n",
      "2924              0      ...                      0                0   \n",
      "2925              1      ...                      0                0   \n",
      "2926              1      ...                      0                0   \n",
      "2927              0      ...                      0                0   \n",
      "2928              0      ...                      0                0   \n",
      "2929              0      ...                      0                0   \n",
      "\n",
      "      Functional_Min2  Functional_Mod  Functional_Sal  Functional_Sev  \\\n",
      "0                   0               0               0               0   \n",
      "1                   0               0               0               0   \n",
      "2                   0               0               0               0   \n",
      "3                   0               0               0               0   \n",
      "4                   0               0               0               0   \n",
      "5                   0               0               0               0   \n",
      "6                   0               0               0               0   \n",
      "7                   0               0               0               0   \n",
      "8                   0               0               0               0   \n",
      "9                   0               0               0               0   \n",
      "10                  0               0               0               0   \n",
      "11                  0               0               0               0   \n",
      "12                  0               0               0               0   \n",
      "13                  0               0               0               0   \n",
      "14                  0               0               0               0   \n",
      "15                  0               1               0               0   \n",
      "16                  0               0               0               0   \n",
      "17                  0               0               0               0   \n",
      "18                  0               0               0               0   \n",
      "19                  0               0               0               0   \n",
      "20                  0               0               0               0   \n",
      "21                  0               0               0               0   \n",
      "22                  0               0               0               0   \n",
      "23                  0               0               0               0   \n",
      "24                  0               0               0               0   \n",
      "25                  0               0               0               0   \n",
      "26                  0               0               0               0   \n",
      "27                  0               0               0               0   \n",
      "28                  0               0               0               0   \n",
      "29                  0               0               0               0   \n",
      "...               ...             ...             ...             ...   \n",
      "2900                0               0               0               0   \n",
      "2901                0               0               0               0   \n",
      "2902                0               0               0               0   \n",
      "2903                0               1               0               0   \n",
      "2904                0               0               0               0   \n",
      "2905                0               0               0               0   \n",
      "2906                0               0               0               0   \n",
      "2907                0               0               0               0   \n",
      "2908                0               0               0               0   \n",
      "2909                0               0               0               0   \n",
      "2910                0               0               0               0   \n",
      "2911                0               0               0               0   \n",
      "2912                0               0               0               0   \n",
      "2913                0               0               0               0   \n",
      "2914                0               0               0               0   \n",
      "2915                0               0               0               0   \n",
      "2916                0               0               0               0   \n",
      "2917                0               0               0               0   \n",
      "2918                0               0               0               0   \n",
      "2919                0               0               0               0   \n",
      "2920                0               0               0               0   \n",
      "2921                0               0               0               0   \n",
      "2922                0               0               0               0   \n",
      "2923                0               0               0               0   \n",
      "2924                0               0               0               0   \n",
      "2925                0               0               0               0   \n",
      "2926                0               0               0               0   \n",
      "2927                0               0               0               0   \n",
      "2928                0               0               0               0   \n",
      "2929                0               0               0               0   \n",
      "\n",
      "      Functional_Typ  Paved Drive_N  Paved Drive_P  Paved Drive_Y  \n",
      "0                  1              0              1              0  \n",
      "1                  1              0              0              1  \n",
      "2                  1              0              0              1  \n",
      "3                  1              0              0              1  \n",
      "4                  1              0              0              1  \n",
      "5                  1              0              0              1  \n",
      "6                  1              0              0              1  \n",
      "7                  1              0              0              1  \n",
      "8                  1              0              0              1  \n",
      "9                  1              0              0              1  \n",
      "10                 1              0              0              1  \n",
      "11                 1              0              0              1  \n",
      "12                 1              0              0              1  \n",
      "13                 1              0              0              1  \n",
      "14                 1              0              0              1  \n",
      "15                 0              0              0              1  \n",
      "16                 1              0              0              1  \n",
      "17                 1              0              0              1  \n",
      "18                 1              0              0              1  \n",
      "19                 0              0              0              1  \n",
      "20                 1              0              0              1  \n",
      "21                 1              0              0              1  \n",
      "22                 1              0              0              1  \n",
      "23                 1              0              0              1  \n",
      "24                 1              0              0              1  \n",
      "25                 1              0              0              1  \n",
      "26                 1              0              0              1  \n",
      "27                 1              0              0              1  \n",
      "28                 1              0              0              1  \n",
      "29                 1              0              0              1  \n",
      "...              ...            ...            ...            ...  \n",
      "2900               1              0              0              1  \n",
      "2901               1              0              0              1  \n",
      "2902               1              0              0              1  \n",
      "2903               0              1              0              0  \n",
      "2904               1              0              0              1  \n",
      "2905               1              0              0              1  \n",
      "2906               1              0              0              1  \n",
      "2907               1              0              0              1  \n",
      "2908               1              0              0              1  \n",
      "2909               1              0              0              1  \n",
      "2910               0              0              0              1  \n",
      "2911               1              0              0              1  \n",
      "2912               1              0              0              1  \n",
      "2913               1              0              0              1  \n",
      "2914               1              0              0              1  \n",
      "2915               1              0              0              1  \n",
      "2916               1              0              0              1  \n",
      "2917               1              0              0              1  \n",
      "2918               1              0              0              1  \n",
      "2919               1              0              0              1  \n",
      "2920               1              0              0              1  \n",
      "2921               1              0              0              1  \n",
      "2922               1              0              0              1  \n",
      "2923               1              0              1              0  \n",
      "2924               1              0              0              1  \n",
      "2925               1              0              0              1  \n",
      "2926               1              0              0              1  \n",
      "2927               1              0              0              1  \n",
      "2928               1              0              0              1  \n",
      "2929               1              0              0              1  \n",
      "\n",
      "[2927 rows x 116 columns]\n"
     ]
    }
   ],
   "source": [
    "data_cat = data.select_dtypes(include = ['category'])\n",
    "dummy_cols = pd.get_dummies(data_cat)\n",
    "print(dummy_cols)\n",
    "\n",
    "data = pd.concat([data,dummy_cols] , axis = 1)"
   ]
  },
  {
   "cell_type": "code",
   "execution_count": 214,
   "metadata": {},
   "outputs": [
    {
     "data": {
      "text/plain": [
       "Index(['Overall Qual', 'Year Built', 'Year Remod/Add', 'Mas Vnr Area',\n",
       "       'Total Bsmt SF', '1st Flr SF', 'Gr Liv Area', 'Full Bath',\n",
       "       'Garage Cars', 'Garage Area',\n",
       "       ...\n",
       "       'Functional_Maj2', 'Functional_Min1', 'Functional_Min2',\n",
       "       'Functional_Mod', 'Functional_Sal', 'Functional_Sev', 'Functional_Typ',\n",
       "       'Paved Drive_N', 'Paved Drive_P', 'Paved Drive_Y'],\n",
       "      dtype='object', length=129)"
      ]
     },
     "execution_count": 214,
     "metadata": {},
     "output_type": "execute_result"
    }
   ],
   "source": [
    "data.select_dtypes(include=['integer','float']).columns"
   ]
  },
  {
   "cell_type": "code",
   "execution_count": 211,
   "metadata": {},
   "outputs": [
    {
     "ename": "SystemError",
     "evalue": "Failed to solve the system of normal equations\n",
     "output_type": "error",
     "traceback": [
      "\u001b[1;31m---------------------------------------------------------------------------\u001b[0m",
      "\u001b[1;31mSystemError\u001b[0m                               Traceback (most recent call last)",
      "\u001b[1;32m<ipython-input-211-c40e87ed7437>\u001b[0m in \u001b[0;36m<module>\u001b[1;34m()\u001b[0m\n\u001b[0;32m     10\u001b[0m     \u001b[1;32mreturn\u001b[0m \u001b[0mrmse\u001b[0m\u001b[1;33m\u001b[0m\u001b[0m\n\u001b[0;32m     11\u001b[0m \u001b[1;33m\u001b[0m\u001b[0m\n\u001b[1;32m---> 12\u001b[1;33m \u001b[0mtest\u001b[0m \u001b[1;33m=\u001b[0m \u001b[0mtrain_and_test\u001b[0m\u001b[1;33m(\u001b[0m\u001b[0mdata\u001b[0m\u001b[1;33m)\u001b[0m\u001b[1;33m\u001b[0m\u001b[0m\n\u001b[0m\u001b[0;32m     13\u001b[0m \u001b[1;33m\u001b[0m\u001b[0m\n\u001b[0;32m     14\u001b[0m \u001b[0mprint\u001b[0m\u001b[1;33m(\u001b[0m\u001b[0mtest\u001b[0m\u001b[1;33m)\u001b[0m\u001b[1;33m\u001b[0m\u001b[0m\n",
      "\u001b[1;32m<ipython-input-211-c40e87ed7437>\u001b[0m in \u001b[0;36mtrain_and_test\u001b[1;34m(df)\u001b[0m\n\u001b[0;32m      4\u001b[0m     \u001b[0mtrain_X\u001b[0m\u001b[1;33m,\u001b[0m \u001b[0mtest_X\u001b[0m\u001b[1;33m,\u001b[0m \u001b[0mtrain_y\u001b[0m\u001b[1;33m,\u001b[0m \u001b[0mtest_y\u001b[0m \u001b[1;33m=\u001b[0m \u001b[0mtrain_test_split\u001b[0m\u001b[1;33m(\u001b[0m\u001b[0mdata_numeric\u001b[0m\u001b[1;33m[\u001b[0m\u001b[0mcolumns\u001b[0m\u001b[1;33m]\u001b[0m\u001b[1;33m,\u001b[0m \u001b[0mdata_numeric\u001b[0m\u001b[1;33m[\u001b[0m\u001b[1;34m'SalePrice'\u001b[0m\u001b[1;33m]\u001b[0m\u001b[1;33m,\u001b[0m \u001b[0mtest_size\u001b[0m\u001b[1;33m=\u001b[0m\u001b[1;36m0.502\u001b[0m\u001b[1;33m,\u001b[0m\u001b[0mrandom_state\u001b[0m\u001b[1;33m=\u001b[0m\u001b[1;36m0\u001b[0m\u001b[1;33m)\u001b[0m\u001b[1;33m\u001b[0m\u001b[0m\n\u001b[0;32m      5\u001b[0m     \u001b[0mlr\u001b[0m \u001b[1;33m=\u001b[0m \u001b[0mLinearRegression\u001b[0m\u001b[1;33m(\u001b[0m\u001b[1;33m)\u001b[0m\u001b[1;33m\u001b[0m\u001b[0m\n\u001b[1;32m----> 6\u001b[1;33m     \u001b[0mlr\u001b[0m\u001b[1;33m.\u001b[0m\u001b[0mfit\u001b[0m\u001b[1;33m(\u001b[0m\u001b[0mtrain_X\u001b[0m\u001b[1;33m,\u001b[0m\u001b[0mtrain_y\u001b[0m\u001b[1;33m)\u001b[0m\u001b[1;33m\u001b[0m\u001b[0m\n\u001b[0m\u001b[0;32m      7\u001b[0m     \u001b[0mpredictions\u001b[0m \u001b[1;33m=\u001b[0m \u001b[0mlr\u001b[0m\u001b[1;33m.\u001b[0m\u001b[0mpredict\u001b[0m\u001b[1;33m(\u001b[0m\u001b[0mtest_X\u001b[0m\u001b[1;33m)\u001b[0m\u001b[1;33m\u001b[0m\u001b[0m\n\u001b[0;32m      8\u001b[0m     \u001b[0mrmse\u001b[0m \u001b[1;33m=\u001b[0m \u001b[0mmean_squared_error\u001b[0m\u001b[1;33m(\u001b[0m\u001b[0mtest_y\u001b[0m\u001b[1;33m,\u001b[0m\u001b[0mpredictions\u001b[0m\u001b[1;33m)\u001b[0m\u001b[1;33m**\u001b[0m\u001b[1;33m(\u001b[0m\u001b[1;36m1\u001b[0m\u001b[1;33m/\u001b[0m\u001b[1;36m2\u001b[0m\u001b[1;33m)\u001b[0m\u001b[1;33m\u001b[0m\u001b[0m\n",
      "\u001b[1;32mC:\\IntelPython3\\lib\\site-packages\\sklearn\\daal4sklearn\\linear.py\u001b[0m in \u001b[0;36mfit\u001b[1;34m(self, X, y, sample_weight)\u001b[0m\n\u001b[0;32m     95\u001b[0m             \u001b[1;33m(\u001b[0m\u001b[0mX\u001b[0m\u001b[1;33m.\u001b[0m\u001b[0mdtype\u001b[0m \u001b[1;33m==\u001b[0m \u001b[0mnp\u001b[0m\u001b[1;33m.\u001b[0m\u001b[0mfloat64\u001b[0m \u001b[1;32mor\u001b[0m \u001b[0mX\u001b[0m\u001b[1;33m.\u001b[0m\u001b[0mdtype\u001b[0m \u001b[1;33m==\u001b[0m \u001b[0mnp\u001b[0m\u001b[1;33m.\u001b[0m\u001b[0mfloat32\u001b[0m\u001b[1;33m)\u001b[0m \u001b[1;32mand\u001b[0m\u001b[1;33m\u001b[0m\u001b[0m\n\u001b[0;32m     96\u001b[0m             sample_weight is None):\n\u001b[1;32m---> 97\u001b[1;33m         \u001b[0mdaal_fit\u001b[0m\u001b[1;33m(\u001b[0m\u001b[0mself\u001b[0m\u001b[1;33m,\u001b[0m \u001b[0mX\u001b[0m\u001b[1;33m,\u001b[0m \u001b[0my\u001b[0m\u001b[1;33m)\u001b[0m\u001b[1;33m\u001b[0m\u001b[0m\n\u001b[0m\u001b[0;32m     98\u001b[0m         \u001b[1;32mreturn\u001b[0m \u001b[0mself\u001b[0m\u001b[1;33m\u001b[0m\u001b[0m\n\u001b[0;32m     99\u001b[0m \u001b[1;33m\u001b[0m\u001b[0m\n",
      "\u001b[1;32mC:\\IntelPython3\\lib\\site-packages\\sklearn\\daal4sklearn\\linear.py\u001b[0m in \u001b[0;36mdaal_fit\u001b[1;34m(self, X, y)\u001b[0m\n\u001b[0;32m     33\u001b[0m     \u001b[1;31m# Build the multiple linear regression model and retrieve the algorithm results\u001b[0m\u001b[1;33m\u001b[0m\u001b[1;33m\u001b[0m\u001b[0m\n\u001b[0;32m     34\u001b[0m     \u001b[0malgorithm\u001b[0m\u001b[1;33m.\u001b[0m\u001b[0mparameter\u001b[0m\u001b[1;33m.\u001b[0m\u001b[0minterceptFlag\u001b[0m \u001b[1;33m=\u001b[0m \u001b[0mself\u001b[0m\u001b[1;33m.\u001b[0m\u001b[0mfit_intercept\u001b[0m\u001b[1;33m\u001b[0m\u001b[0m\n\u001b[1;32m---> 35\u001b[1;33m     \u001b[0mself\u001b[0m\u001b[1;33m.\u001b[0m\u001b[0mtrainingResult_\u001b[0m \u001b[1;33m=\u001b[0m \u001b[0malgorithm\u001b[0m\u001b[1;33m.\u001b[0m\u001b[0mcompute\u001b[0m\u001b[1;33m(\u001b[0m\u001b[1;33m)\u001b[0m\u001b[1;33m\u001b[0m\u001b[0m\n\u001b[0m\u001b[0;32m     36\u001b[0m     \u001b[0mself\u001b[0m\u001b[1;33m.\u001b[0m\u001b[0mcoef_\u001b[0m \u001b[1;33m=\u001b[0m \u001b[0mgetArrayFromNumericTable\u001b[0m\u001b[1;33m(\u001b[0m\u001b[0mself\u001b[0m\u001b[1;33m.\u001b[0m\u001b[0mtrainingResult_\u001b[0m\u001b[1;33m.\u001b[0m\u001b[0mget\u001b[0m\u001b[1;33m(\u001b[0m\u001b[0mtraining\u001b[0m\u001b[1;33m.\u001b[0m\u001b[0mmodel\u001b[0m\u001b[1;33m)\u001b[0m\u001b[1;33m.\u001b[0m\u001b[0mgetBeta\u001b[0m\u001b[1;33m(\u001b[0m\u001b[1;33m)\u001b[0m\u001b[1;33m)\u001b[0m\u001b[1;33m\u001b[0m\u001b[0m\n\u001b[0;32m     37\u001b[0m     \u001b[1;32mif\u001b[0m \u001b[0mself\u001b[0m\u001b[1;33m.\u001b[0m\u001b[0mfit_intercept\u001b[0m \u001b[1;33m==\u001b[0m \u001b[1;32mTrue\u001b[0m\u001b[1;33m:\u001b[0m\u001b[1;33m\u001b[0m\u001b[0m\n",
      "\u001b[1;32mC:\\IntelPython3\\lib\\site-packages\\daal\\algorithms\\linear_regression\\training.py\u001b[0m in \u001b[0;36mcompute\u001b[1;34m(self)\u001b[0m\n\u001b[0;32m    510\u001b[0m \u001b[1;33m\u001b[0m\u001b[0m\n\u001b[0;32m    511\u001b[0m     \u001b[1;32mdef\u001b[0m \u001b[0mcompute\u001b[0m\u001b[1;33m(\u001b[0m\u001b[0mself\u001b[0m\u001b[1;33m)\u001b[0m\u001b[1;33m:\u001b[0m\u001b[1;33m\u001b[0m\u001b[0m\n\u001b[1;32m--> 512\u001b[1;33m         \u001b[1;32mreturn\u001b[0m \u001b[0m_training15\u001b[0m\u001b[1;33m.\u001b[0m\u001b[0mBatch_Float64NormEqDense_compute\u001b[0m\u001b[1;33m(\u001b[0m\u001b[0mself\u001b[0m\u001b[1;33m)\u001b[0m\u001b[1;33m\u001b[0m\u001b[0m\n\u001b[0m\u001b[0;32m    513\u001b[0m \u001b[0mBatch_Float64NormEqDense_swigregister\u001b[0m \u001b[1;33m=\u001b[0m \u001b[0m_training15\u001b[0m\u001b[1;33m.\u001b[0m\u001b[0mBatch_Float64NormEqDense_swigregister\u001b[0m\u001b[1;33m\u001b[0m\u001b[0m\n\u001b[0;32m    514\u001b[0m \u001b[0mBatch_Float64NormEqDense_swigregister\u001b[0m\u001b[1;33m(\u001b[0m\u001b[0mBatch_Float64NormEqDense\u001b[0m\u001b[1;33m)\u001b[0m\u001b[1;33m\u001b[0m\u001b[0m\n",
      "\u001b[1;31mSystemError\u001b[0m: Failed to solve the system of normal equations\n"
     ]
    }
   ],
   "source": [
    "def train_and_test(df):\n",
    "    data_numeric = df.select_dtypes(include=['integer','float'])\n",
    "    columns = data_numeric.columns.drop('SalePrice')\n",
    "    train_X, test_X, train_y, test_y = train_test_split(data_numeric[columns], data_numeric['SalePrice'], test_size=0.502,random_state=0)\n",
    "    lr = LinearRegression()\n",
    "    lr.fit(train_X,train_y)\n",
    "    predictions = lr.predict(test_X)\n",
    "    rmse = mean_squared_error(test_y,predictions)**(1/2)\n",
    "    \n",
    "    return rmse\n",
    "\n",
    "test = train_and_test(data)\n",
    "\n",
    "print(test)"
   ]
  }
 ],
 "metadata": {
  "kernelspec": {
   "display_name": "Python 3",
   "language": "python",
   "name": "python3"
  },
  "language_info": {
   "codemirror_mode": {
    "name": "ipython",
    "version": 3
   },
   "file_extension": ".py",
   "mimetype": "text/x-python",
   "name": "python",
   "nbconvert_exporter": "python",
   "pygments_lexer": "ipython3",
   "version": "3.6.3"
  }
 },
 "nbformat": 4,
 "nbformat_minor": 2
}
